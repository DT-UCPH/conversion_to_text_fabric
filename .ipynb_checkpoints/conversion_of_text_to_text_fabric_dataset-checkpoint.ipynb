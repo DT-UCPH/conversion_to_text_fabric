{
 "cells": [
  {
   "cell_type": "markdown",
   "id": "78728c92",
   "metadata": {},
   "source": [
    "# Conversion of The Real Bible to Text-Fabric dataset"
   ]
  },
  {
   "cell_type": "markdown",
   "id": "66fd0009",
   "metadata": {},
   "source": [
    "In this notebook, we will convert a very simple to a text-fabric dataset. The notebook is based on [this](https://nbviewer.org/github/annotation/banks/blob/master/programs/convert.ipynb) notebook by Dirk Roorda. Our text has a slightly simpler structure, and we add a few more word features."
   ]
  },
  {
   "cell_type": "markdown",
   "id": "6e45999c",
   "metadata": {},
   "source": [
    "Note, that when you have converted the dataset, you still need to configure the app."
   ]
  },
  {
   "cell_type": "markdown",
   "id": "0a55b7c0",
   "metadata": {},
   "source": [
    "### The text"
   ]
  },
  {
   "cell_type": "markdown",
   "id": "27beb60e",
   "metadata": {},
   "source": [
    "We will convert the text of an old book, consisting of two pages of text to a text-fabric dataset. We will divide text in the sections \"book\", \"page\" and \"line\". The slots of the dataset are the words in the text. The node type book has a feature \"name\", the page nodes have the features \"number\" and \"author\", and the line nodes have the features \"number\" and \"language\". The line has a feature \"language\" and the words have the features \"text\", \"lexeme\", and \"language\"."
   ]
  },
  {
   "cell_type": "code",
   "execution_count": 2,
   "id": "78ece7fd",
   "metadata": {},
   "outputs": [],
   "source": [
    "source = '''\n",
    "# TheRealBible\n",
    "\n",
    "## PAGE 1\n",
    "$ AUTHOR MOSES\n",
    "EN The cat sat on the mat\n",
    "NL De kat zat op de mat\n",
    "DE Die Katze saß auf der Matte\n",
    "\n",
    "## PAGE 2\n",
    "$ AUTHOR DAVID\n",
    "EN He who laughs last laughs best\n",
    "NL Wie het laatst lacht lacht het best\n",
    "'''"
   ]
  },
  {
   "cell_type": "markdown",
   "id": "bad81a35",
   "metadata": {},
   "source": [
    "The text contains several pieces of metadata: \n",
    "\n",
    "- The first line \"# TheRealBible\" contains the title of the book, it is not part of the text.\n",
    "- \"## PAGE 1\" and \"## PAGE 2\" are the page numbers.\n",
    "- Lines starting with $ contain the author name of each page.\n",
    "- Lines with the text of the book are introduced with a two letter code indicating the language of the text."
   ]
  },
  {
   "cell_type": "markdown",
   "id": "567ee6a2",
   "metadata": {},
   "source": [
    "### Prepare the conversion."
   ]
  },
  {
   "cell_type": "code",
   "execution_count": 3,
   "id": "39a93890",
   "metadata": {},
   "outputs": [],
   "source": [
    "import os\n",
    "\n",
    "from tf.fabric import Fabric\n",
    "from tf.convert.walker import CV"
   ]
  },
  {
   "cell_type": "code",
   "execution_count": 4,
   "id": "a78b0619",
   "metadata": {},
   "outputs": [],
   "source": [
    "DATA_FOLDER = 'tf'\n",
    "VERSION = '0.1'\n",
    "\n",
    "TF_PATH = f'./{DATA_FOLDER}/{VERSION}'\n",
    "TF = Fabric(locations=TF_PATH, silent=True)"
   ]
  },
  {
   "cell_type": "markdown",
   "id": "16f2aa2c",
   "metadata": {},
   "source": [
    "Define the slot type. Often, the word is an obvious choice, but you can make a different choice. Sometimes a sign can be a better choice. "
   ]
  },
  {
   "cell_type": "code",
   "execution_count": 5,
   "id": "bb94624d",
   "metadata": {},
   "outputs": [],
   "source": [
    "slotType = 'word'"
   ]
  },
  {
   "cell_type": "markdown",
   "id": "54ac597b",
   "metadata": {},
   "source": [
    "Create a dict that contains metadata. Who did the conversion? What are your sources? You will find this information at the top of each TF feature file."
   ]
  },
  {
   "cell_type": "code",
   "execution_count": 6,
   "id": "4e104702",
   "metadata": {},
   "outputs": [],
   "source": [
    "generic = {\n",
    "    'name': 'The Real Bible',\n",
    "    'compiler': 'Martijn Naaijer',\n",
    "    'source': 'Various sacred texts',\n",
    "    'version': '0.1',\n",
    "    'purpose': 'exposition'\n",
    "}"
   ]
  },
  {
   "cell_type": "markdown",
   "id": "e0ccf47e",
   "metadata": {},
   "source": [
    "A text can have different representations, especially if you work with a text which is written in another script and you want to add a transcription in Latin script. Here you can define the representations. They consist of placeholders, with the features you want to use for it.\n",
    "Also, you define the section types here."
   ]
  },
  {
   "cell_type": "code",
   "execution_count": 7,
   "id": "7ae99f01",
   "metadata": {},
   "outputs": [],
   "source": [
    "otext = {\n",
    "    'fmt:text-orig-full': '{text} ',\n",
    "    'sectionTypes': 'book,page,line',\n",
    "    'sectionFeatures': 'title,number,number',\n",
    "}"
   ]
  },
  {
   "cell_type": "markdown",
   "id": "2dfc2cc3",
   "metadata": {},
   "source": [
    "In text, most of your features are categorical, but you may also have integer features. You define them here."
   ]
  },
  {
   "cell_type": "code",
   "execution_count": 8,
   "id": "7c8989d0",
   "metadata": {},
   "outputs": [],
   "source": [
    "intFeatures = {\n",
    "  'number'\n",
    "}"
   ]
  },
  {
   "cell_type": "markdown",
   "id": "eb2b24fe",
   "metadata": {},
   "source": [
    "Give a short description of all your features. That is usefule for the users of the dataset, and for yourself!"
   ]
  },
  {
   "cell_type": "code",
   "execution_count": 9,
   "id": "2c5d92e0",
   "metadata": {},
   "outputs": [],
   "source": [
    "featureMeta = {\n",
    "    'number': {\n",
    "        'description': 'number of page, or line on page',\n",
    "    },\n",
    "    'title': {\n",
    "        'description': 'title of a book',    \n",
    "    },\n",
    "    'author': {\n",
    "        'description': 'the author of a page',\n",
    "    },\n",
    "    'language': {\n",
    "        'description': 'language of a word of text',\n",
    "    },\n",
    "    'text': {\n",
    "        'description': 'the text of a word',\n",
    "    },\n",
    "    'lexeme': {\n",
    "        'description': 'lexeme of a word',\n",
    "    },\n",
    "}"
   ]
  },
  {
   "cell_type": "markdown",
   "id": "b6079d8f",
   "metadata": {},
   "source": [
    "The dict language_dict contains all the lexemes of the words that we found in the text. It contains a sub-dictionary for each language in the text."
   ]
  },
  {
   "cell_type": "code",
   "execution_count": 10,
   "id": "eb3df6ab",
   "metadata": {},
   "outputs": [],
   "source": [
    "languages_dict = {\n",
    "         'EN': {'the': 'the', \n",
    "                'cat': 'cat', \n",
    "                'sat': 'sit', \n",
    "                'on': 'on', \n",
    "                'mat': 'mat', \n",
    "                'he': 'he', \n",
    "                'who': 'who', \n",
    "                'laughs': 'laugh', \n",
    "                'last': 'late', \n",
    "                'best': 'good'},\n",
    "\n",
    "         'DE': {'die': 'die', \n",
    "               'katze': 'katze', \n",
    "               'saß': 'sitzen', \n",
    "               'auf': 'auf', \n",
    "               'der': 'der', \n",
    "               'matte': 'matte'},\n",
    "\n",
    "        'NL': {'de': 'de', \n",
    "              'kat': 'kat', \n",
    "              'zat': 'zitten', \n",
    "              'op': 'op', \n",
    "              'mat': 'mat', \n",
    "              'wie': 'wie', \n",
    "              'het': 'het', \n",
    "              'laatst': 'laat', \n",
    "              'lacht': 'lachen', \n",
    "              'best': 'goed'}\n",
    "}"
   ]
  },
  {
   "cell_type": "markdown",
   "id": "3a327609",
   "metadata": {},
   "source": [
    "Now, we define a function director, in which the text is parsed, and features are added. For each type of line, it has a specific action, which corresponds with the metadata the line contains.\n",
    "\n",
    "You add node features to cv.feature(). Nodes are initialized with cv.node(). When a node is done, it needs to be terminated with cv.terminate()."
   ]
  },
  {
   "cell_type": "code",
   "execution_count": 11,
   "id": "9a27ae4b",
   "metadata": {},
   "outputs": [],
   "source": [
    "def director(cv):\n",
    "    counter = dict(\n",
    "      page=0,\n",
    "      line=0,\n",
    "    )\n",
    "    cur = dict(\n",
    "            book=None,\n",
    "            page=None,\n",
    "            line=None,\n",
    "          )\n",
    "    \n",
    "    for line in source.strip().split('\\n'):\n",
    "\n",
    "        if not line:\n",
    "            cv.terminate(cur['line'])               \n",
    "            for ntp in counter:\n",
    "                counter[ntp] += 1\n",
    "            cur['line'] = cv.node('line')\n",
    "            cv.feature(\n",
    "              cur['line'],\n",
    "              number=counter['line'],\n",
    "              )\n",
    "            continue\n",
    "\n",
    "        if line.startswith('# '):\n",
    "            for ntp in ('line', 'page', 'book'):\n",
    "                cv.terminate(cur[ntp])\n",
    "                cur[ntp] = None         \n",
    "            title = line[2:].strip()\n",
    "            cur['book'] = cv.node('book')\n",
    "            for ntp in counter:\n",
    "                counter[ntp] = 0\n",
    "            cv.feature(\n",
    "              cur['book'],\n",
    "              title=title,\n",
    "            )\n",
    "            continue\n",
    "        \n",
    "        if line.startswith('## '):\n",
    "            for ntp in ('line', 'page'):\n",
    "                cv.terminate(cur[ntp])\n",
    "                cur[ntp] = None         \n",
    "            number = line.split('PAGE')[1].strip()\n",
    "            cur['page'] = cv.node('page')\n",
    "            for ntp in counter:\n",
    "                counter[ntp] = 0\n",
    "            cv.feature(\n",
    "              cur['page'],\n",
    "              number=number,\n",
    "            )\n",
    "            continue\n",
    "            \n",
    "        if line.startswith('$ '):\n",
    "            author = line.split('AUTHOR')[1].strip()\n",
    "            cv.feature(\n",
    "              cur['page'],\n",
    "              author=author,\n",
    "            )\n",
    "            continue\n",
    "            \n",
    "        cur['line'] = cv.node('line')\n",
    "        counter['line'] += 1\n",
    "        language=line[:2]\n",
    "        cv.feature(\n",
    "          cur['line'],\n",
    "          number=counter['line'],\n",
    "          language=language\n",
    "        )\n",
    "        \n",
    "        for word in line[3:].split():\n",
    "            w = cv.slot()\n",
    "            lexeme=languages_dict[language].get(word.lower(), word)\n",
    "            cv.feature(w, \n",
    "                       text=word,\n",
    "                       lexeme=lexeme,\n",
    "                       language=language\n",
    "                       )\n",
    "\n",
    "        cv.terminate(cur['line'])                     # action\n",
    "        \n",
    "        \n",
    "    # just for informational purposes\n",
    "    print('\\nINFORMATION:', cv.activeTypes(), '\\n') # action\n",
    "  \n",
    "    for ntp in ('line', 'page', 'book'):\n",
    "        cv.terminate(cur[ntp])  \n",
    "            \n",
    "        "
   ]
  },
  {
   "cell_type": "code",
   "execution_count": 12,
   "id": "c5cdc0ef",
   "metadata": {},
   "outputs": [
    {
     "name": "stdout",
     "output_type": "stream",
     "text": [
      "  0.00s Importing data from walking through the source ...\n",
      "   |     0.00s Preparing metadata... \n",
      "   |     0.00s No structure nodes will be set up\n",
      "   |   SECTION   TYPES:    book, page, line\n",
      "   |   SECTION   FEATURES: title, number, number\n",
      "   |   STRUCTURE TYPES:    \n",
      "   |   STRUCTURE FEATURES: \n",
      "   |   TEXT      FEATURES:\n",
      "   |      |   text-orig-full       text\n",
      "   |     0.00s OK\n",
      "   |     0.00s Following director... \n",
      "\n",
      "INFORMATION: {'page', 'book'} \n",
      "\n",
      "   |     0.00s \"edge\" actions: 0\n",
      "   |     0.00s \"feature\" actions: 43\n",
      "   |     0.00s \"node\" actions: 10\n",
      "   |     0.00s \"resume\" actions: 0\n",
      "   |     0.00s \"slot\" actions: 31\n",
      "   |     0.00s \"terminate\" actions: 17\n",
      "   |          1 x \"book\" node \n",
      "   |          7 x \"line\" node \n",
      "   |          2 x \"page\" node \n",
      "   |         31 x \"word\" node  = slot type\n",
      "   |         41 nodes of all types\n",
      "   |     0.00s OK\n",
      "   |     0.00s Removing unlinked nodes ... \n",
      "   |      |     0.00s      2 unlinked \"line\" nodes: [1, 5]\n",
      "   |      |     0.00s      2 unlinked nodes\n",
      "   |      |     0.00s Leaving     39 nodes\n",
      "   |     0.00s checking for nodes and edges ... \n",
      "   |     0.00s OK\n",
      "   |     0.00s checking features ... \n",
      "   |     0.00s OK\n",
      "   |     0.00s reordering nodes ...\n",
      "   |     0.00s Sorting 1 nodes of type \"book\"\n",
      "   |     0.00s Sorting 5 nodes of type \"line\"\n",
      "   |     0.00s Sorting 2 nodes of type \"page\"\n",
      "   |     0.00s Max node = 39\n",
      "   |     0.00s OK\n",
      "   |     0.00s reassigning feature values ...\n",
      "   |      |     0.00s node feature \"author\" with 2 nodes\n",
      "   |      |     0.00s node feature \"language\" with 36 nodes\n",
      "   |      |     0.00s node feature \"lexeme\" with 31 nodes\n",
      "   |      |     0.01s node feature \"number\" with 7 nodes\n",
      "   |      |     0.01s node feature \"text\" with 31 nodes\n",
      "   |      |     0.01s node feature \"title\" with 1 node\n",
      "   |     0.00s OK\n",
      "  0.00s Exporting 7 node and 1 edge and 1 config features to ~/Kopenhagen/KopenhagenResearch/presentaties/skillshare_conversion_to_tf/conversion_to_text_fabric/tf/0.1:\n",
      "  0.00s VALIDATING oslots feature\n",
      "  0.00s VALIDATING oslots feature\n",
      "  0.00s maxSlot=         31\n",
      "  0.00s maxNode=         39\n",
      "  0.00s OK: oslots is valid\n",
      "   |     0.00s T author               to ~/Kopenhagen/KopenhagenResearch/presentaties/skillshare_conversion_to_tf/conversion_to_text_fabric/tf/0.1\n",
      "   |     0.00s T language             to ~/Kopenhagen/KopenhagenResearch/presentaties/skillshare_conversion_to_tf/conversion_to_text_fabric/tf/0.1\n",
      "   |     0.00s T lexeme               to ~/Kopenhagen/KopenhagenResearch/presentaties/skillshare_conversion_to_tf/conversion_to_text_fabric/tf/0.1\n",
      "   |     0.00s T number               to ~/Kopenhagen/KopenhagenResearch/presentaties/skillshare_conversion_to_tf/conversion_to_text_fabric/tf/0.1\n",
      "   |     0.00s T otype                to ~/Kopenhagen/KopenhagenResearch/presentaties/skillshare_conversion_to_tf/conversion_to_text_fabric/tf/0.1\n",
      "   |     0.00s T text                 to ~/Kopenhagen/KopenhagenResearch/presentaties/skillshare_conversion_to_tf/conversion_to_text_fabric/tf/0.1\n",
      "   |     0.00s T title                to ~/Kopenhagen/KopenhagenResearch/presentaties/skillshare_conversion_to_tf/conversion_to_text_fabric/tf/0.1\n",
      "   |     0.00s T oslots               to ~/Kopenhagen/KopenhagenResearch/presentaties/skillshare_conversion_to_tf/conversion_to_text_fabric/tf/0.1\n",
      "   |     0.00s M otext                to ~/Kopenhagen/KopenhagenResearch/presentaties/skillshare_conversion_to_tf/conversion_to_text_fabric/tf/0.1\n",
      "  0.01s Exported 7 node features and 1 edge features and 1 config features to ~/Kopenhagen/KopenhagenResearch/presentaties/skillshare_conversion_to_tf/conversion_to_text_fabric/tf/0.1\n"
     ]
    },
    {
     "data": {
      "text/plain": [
       "True"
      ]
     },
     "execution_count": 12,
     "metadata": {},
     "output_type": "execute_result"
    }
   ],
   "source": [
    "cv = CV(TF)\n",
    "\n",
    "good = cv.walk(\n",
    "    director,\n",
    "    slotType,\n",
    "    otext=otext,\n",
    "    generic=generic,\n",
    "    intFeatures=intFeatures,\n",
    "    featureMeta=featureMeta,\n",
    ")\n",
    "\n",
    "good"
   ]
  },
  {
   "cell_type": "code",
   "execution_count": null,
   "id": "d163b049",
   "metadata": {},
   "outputs": [],
   "source": []
  }
 ],
 "metadata": {
  "kernelspec": {
   "display_name": "Python 3 (ipykernel)",
   "language": "python",
   "name": "python3"
  },
  "language_info": {
   "codemirror_mode": {
    "name": "ipython",
    "version": 3
   },
   "file_extension": ".py",
   "mimetype": "text/x-python",
   "name": "python",
   "nbconvert_exporter": "python",
   "pygments_lexer": "ipython3",
   "version": "3.9.7"
  }
 },
 "nbformat": 4,
 "nbformat_minor": 5
}
